{
 "cells": [
  {
   "cell_type": "code",
   "execution_count": 1,
   "metadata": {},
   "outputs": [],
   "source": [
    "import pandas as pd\n",
    "from sklearn.feature_extraction.comment import TfidfVectorizer\n",
    "from sklearn.model_selection import train_test_split, GridSearchCV\n",
    "from sklearn.naive_bayes import MultinomialNB\n",
    "from sklearn.ensemble import RandomForestClassifier\n",
    "from sklearn.metrics import classification_report, accuracy_score\n",
    "import nltk\n",
    "from nltk.corpus import stopwords\n",
    "import re\n",
    "import spacy\n",
    "from collections import Counter\n",
    "from xgboost import XGBClassifier"
   ]
  },
  {
   "cell_type": "code",
   "execution_count": 14,
   "metadata": {},
   "outputs": [
    {
     "name": "stderr",
     "output_type": "stream",
     "text": [
      "[nltk_data] Downloading package stopwords to\n",
      "[nltk_data]     C:\\Users\\Administrator\\AppData\\Roaming\\nltk_data...\n",
      "[nltk_data]   Package stopwords is already up-to-date!\n"
     ]
    },
    {
     "name": "stdout",
     "output_type": "stream",
     "text": [
      "\u001b[38;5;2m✔ Download and installation successful\u001b[0m\n",
      "You can now load the package via spacy.load('fr_core_news_sm')\n",
      "\u001b[38;5;3m⚠ Restart to reload dependencies\u001b[0m\n",
      "If you are in a Jupyter or Colab notebook, you may need to restart Python in\n",
      "order to load all the package's dependencies. You can do this by selecting the\n",
      "'Restart kernel' or 'Restart runtime' option.\n"
     ]
    },
    {
     "data": {
      "text/html": [
       "<div>\n",
       "<style scoped>\n",
       "    .dataframe tbody tr th:only-of-type {\n",
       "        vertical-align: middle;\n",
       "    }\n",
       "\n",
       "    .dataframe tbody tr th {\n",
       "        vertical-align: top;\n",
       "    }\n",
       "\n",
       "    .dataframe thead th {\n",
       "        text-align: right;\n",
       "    }\n",
       "</style>\n",
       "<table border=\"1\" class=\"dataframe\">\n",
       "  <thead>\n",
       "    <tr style=\"text-align: right;\">\n",
       "      <th></th>\n",
       "      <th>time</th>\n",
       "      <th>comment</th>\n",
       "      <th>Cleaned_Tokens</th>\n",
       "    </tr>\n",
       "  </thead>\n",
       "  <tbody>\n",
       "    <tr>\n",
       "      <th>0</th>\n",
       "      <td>2024-05-10T17:06:20Z</td>\n",
       "      <td>Do you think the TikTok ban will be enacted? S...</td>\n",
       "      <td>[think, tiktok, ban, enacted, start, saving, r...</td>\n",
       "    </tr>\n",
       "    <tr>\n",
       "      <th>1</th>\n",
       "      <td>2024-05-15T19:03:38Z</td>\n",
       "      <td>youts?</td>\n",
       "      <td>[yout]</td>\n",
       "    </tr>\n",
       "    <tr>\n",
       "      <th>2</th>\n",
       "      <td>2024-05-15T18:42:03Z</td>\n",
       "      <td>Thank you for this. Really good job breaking e...</td>\n",
       "      <td>[thank, thi, really, good, job, breaking, ever...</td>\n",
       "    </tr>\n",
       "    <tr>\n",
       "      <th>3</th>\n",
       "      <td>2024-05-15T18:35:09Z</td>\n",
       "      <td>The sheer number of people that ByteDsnce is p...</td>\n",
       "      <td>[sheer, number, people, bytedsnce, paying, tak...</td>\n",
       "    </tr>\n",
       "    <tr>\n",
       "      <th>4</th>\n",
       "      <td>2024-05-15T18:33:35Z</td>\n",
       "      <td>Legal arguments regarding constitutional free ...</td>\n",
       "      <td>[legal, argument, regarding, constitutional, f...</td>\n",
       "    </tr>\n",
       "  </tbody>\n",
       "</table>\n",
       "</div>"
      ],
      "text/plain": [
       "                   time                                            comment  \\\n",
       "0  2024-05-10T17:06:20Z  Do you think the TikTok ban will be enacted? S...   \n",
       "1  2024-05-15T19:03:38Z                                             youts?   \n",
       "2  2024-05-15T18:42:03Z  Thank you for this. Really good job breaking e...   \n",
       "3  2024-05-15T18:35:09Z  The sheer number of people that ByteDsnce is p...   \n",
       "4  2024-05-15T18:33:35Z  Legal arguments regarding constitutional free ...   \n",
       "\n",
       "                                      Cleaned_Tokens  \n",
       "0  [think, tiktok, ban, enacted, start, saving, r...  \n",
       "1                                             [yout]  \n",
       "2  [thank, thi, really, good, job, breaking, ever...  \n",
       "3  [sheer, number, people, bytedsnce, paying, tak...  \n",
       "4  [legal, argument, regarding, constitutional, f...  "
      ]
     },
     "execution_count": 14,
     "metadata": {},
     "output_type": "execute_result"
    }
   ],
   "source": [
    "import re\n",
    "import pandas as pd\n",
    "from collections import Counter\n",
    "import nltk\n",
    "from nltk.corpus import stopwords\n",
    "import spacy\n",
    "\n",
    "# Download necessary NLTK data\n",
    "nltk.download('stopwords')\n",
    "\n",
    "# Download and load spaCy model\n",
    "spacy.cli.download(\"fr_core_news_sm\")\n",
    "nlp = spacy.load('fr_core_news_sm')\n",
    "\n",
    "# Load the data from the CSV file\n",
    "file_path = 'youtube_comments_cleaned.csv'\n",
    "data = pd.read_csv(file_path)\n",
    "\n",
    "# Define French stopwords\n",
    "stop_words = set(stopwords.words('english'))\n",
    "\n",
    "# clean text\n",
    "\n",
    "def clean_text(comment):\n",
    "\n",
    "    # Check if the comment is NaN\n",
    "\n",
    "    if pd.isnull(comment):\n",
    "\n",
    "        return []\n",
    "    # Convert comment to string\n",
    "\n",
    "    comment = str(comment)\n",
    "# Remove punctuation and special characters\n",
    "\n",
    "    comment = re.sub(r'\\W+', ' ', comment)\n",
    "    # Convert to lowercase\n",
    "\n",
    "    comment = comment.lower()\n",
    "    # Tokenize using spaCy\n",
    "\n",
    "    doc = nlp(comment)\n",
    "    tokens = [token.lemma_ for token in doc]\n",
    "\n",
    "    # Remove stopwords\n",
    "    tokens = [token for token in tokens if token not in stop_words]\n",
    "\n",
    "    # Remove short words\n",
    "    tokens = [token for token in tokens if len(token) > 2]\n",
    "\n",
    "    return tokens\n",
    "# Apply cleaning function\n",
    "data['Cleaned_Tokens'] = data['comment'].apply(lambda x: clean_text(x))\n",
    "data.to_csv('data1.csv', index=False)\n",
    "\n",
    "# Display the first few rows of the updated dataframe\n",
    "data.head()\n",
    "\n",
    "\n",
    "\n"
   ]
  },
  {
   "cell_type": "code",
   "execution_count": 15,
   "metadata": {},
   "outputs": [],
   "source": [
    "file_path = 'data1.csv'\n",
    "data = pd.read_csv(file_path)\n",
    "\n",
    "#flatten the list of tokens to create a single list of all words\n",
    "all_words = [word for tokens in data['Cleaned_Tokens'] for word in tokens]\n",
    "\n",
    "#falculate the frequency of each word\n",
    "word_freq = Counter(all_words)\n",
    "\n",
    "#define a threshold for rare words (e.g., words that appear less than 5 times)\n",
    "threshold = 5\n",
    "\n",
    "#create a set of rare words\n",
    "rare_words = {word for word, freq in word_freq.items() if freq < threshold}\n",
    "\n",
    "#function to remove rare words from tokenized text\n",
    "def remove_rare_words(tokens):\n",
    "    return [token for token in tokens if token not in rare_words]\n",
    "\n",
    "#apply the function to remove rare words\n",
    "data['Cleaned_Tokens'] = data['Cleaned_Tokens'].apply(remove_rare_words)\n",
    "data['Cleaned_Text'] = data['Cleaned_Tokens'].apply(lambda x: ' '.join(x))"
   ]
  },
  {
   "cell_type": "code",
   "execution_count": 42,
   "metadata": {},
   "outputs": [
    {
     "name": "stdout",
     "output_type": "stream",
     "text": [
      "Number of non-empty Cleaned_Text in training set: 2358\n",
      "Number of non-empty Cleaned_Text in testing set: 590\n",
      "TF-IDF vocabulary size: 5000\n",
      "Shape of X_train_tfidf: (2388, 5000)\n",
      "Shape of X_test_tfidf: (597, 5000)\n"
     ]
    }
   ],
   "source": [
    "import pandas as pd\n",
    "import numpy as np\n",
    "from sklearn.model_selection import train_test_split\n",
    "from sklearn.feature_extraction.text import TfidfVectorizer\n",
    "\n",
    "# Load the data\n",
    "file_path = 'data1.csv'\n",
    "data_new = pd.read_csv(file_path)\n",
    "\n",
    "# Set the random seed for reproducibility\n",
    "np.random.seed(42)\n",
    "\n",
    "# Adding a random Sentiment column for demonstration\n",
    "data_new['Sentiment'] = np.random.choice([0, 1], size=len(data_new))\n",
    "\n",
    "# Convert Cleaned_Tokens to Cleaned_Text by joining tokens with space\n",
    "data_new['Cleaned_Text'] = data_new['Cleaned_Tokens'].apply(lambda x: ' '.join(eval(x)))\n",
    "\n",
    "# Split data into training and testing sets\n",
    "X_train, X_test, y_train, y_test = train_test_split(data_new['Cleaned_Text'], data_new['Sentiment'], test_size=0.2, random_state=42)\n",
    "\n",
    "# Check for non-empty Cleaned_Text values\n",
    "num_non_empty_train = sum(X_train.str.strip() != '')\n",
    "num_non_empty_test = sum(X_test.str.strip() != '')\n",
    "\n",
    "# Adjusting the TF-IDF vectorizer parameters\n",
    "vectorizer = TfidfVectorizer(\n",
    "    max_features=5000,  \n",
    "    ngram_range=(1, 2),  \n",
    "    max_df=0.95,\n",
    "    min_df=1  # Lowering min_df to include more terms\n",
    ")\n",
    "\n",
    "# Fit and transform the training data\n",
    "X_train_tfidf = vectorizer.fit_transform(X_train)\n",
    "X_test_tfidf = vectorizer.transform(X_test)\n",
    "\n",
    "# Vocabulary size and transformed data shapes\n",
    "vocabulary_size = len(vectorizer.vocabulary_)\n",
    "X_train_tfidf_shape = X_train_tfidf.shape\n",
    "X_test_tfidf_shape = X_test_tfidf.shape\n",
    "\n",
    "print(f\"Number of non-empty Cleaned_Text in training set: {num_non_empty_train}\")\n",
    "print(f\"Number of non-empty Cleaned_Text in testing set: {num_non_empty_test}\")\n",
    "print(f\"TF-IDF vocabulary size: {vocabulary_size}\")\n",
    "print(f\"Shape of X_train_tfidf: {X_train_tfidf_shape}\")\n",
    "print(f\"Shape of X_test_tfidf: {X_test_tfidf_shape}\")\n",
    "\n"
   ]
  },
  {
   "cell_type": "code",
   "execution_count": 43,
   "metadata": {},
   "outputs": [
    {
     "name": "stdout",
     "output_type": "stream",
     "text": [
      "Requirement already satisfied: smote in c:\\python312\\lib\\site-packages (0.1)\n",
      "Requirement already satisfied: numpy>=1.14.3 in c:\\python312\\lib\\site-packages (from smote) (1.26.2)\n",
      "Requirement already satisfied: scikit-learn>=0.19.1 in c:\\python312\\lib\\site-packages (from smote) (1.3.2)\n",
      "Requirement already satisfied: scipy>=1.5.0 in c:\\python312\\lib\\site-packages (from scikit-learn>=0.19.1->smote) (1.11.4)\n",
      "Requirement already satisfied: joblib>=1.1.1 in c:\\python312\\lib\\site-packages (from scikit-learn>=0.19.1->smote) (1.3.2)\n",
      "Requirement already satisfied: threadpoolctl>=2.0.0 in c:\\python312\\lib\\site-packages (from scikit-learn>=0.19.1->smote) (3.2.0)\n",
      "Requirement already satisfied: imbalanced-learn in c:\\python312\\lib\\site-packages (0.12.2)\n",
      "Requirement already satisfied: numpy>=1.17.3 in c:\\python312\\lib\\site-packages (from imbalanced-learn) (1.26.2)\n",
      "Requirement already satisfied: scipy>=1.5.0 in c:\\python312\\lib\\site-packages (from imbalanced-learn) (1.11.4)\n",
      "Requirement already satisfied: scikit-learn>=1.0.2 in c:\\python312\\lib\\site-packages (from imbalanced-learn) (1.3.2)\n",
      "Requirement already satisfied: joblib>=1.1.1 in c:\\python312\\lib\\site-packages (from imbalanced-learn) (1.3.2)\n",
      "Requirement already satisfied: threadpoolctl>=2.0.0 in c:\\python312\\lib\\site-packages (from imbalanced-learn) (3.2.0)\n"
     ]
    },
    {
     "name": "stderr",
     "output_type": "stream",
     "text": [
      "ERROR: Could not find a version that satisfies the requirement GridSearchCV (from versions: none)\n",
      "ERROR: No matching distribution found for GridSearchCV\n"
     ]
    }
   ],
   "source": [
    "!pip install smote\n",
    "!pip install imbalanced-learn\n",
    "!pip install GridSearchCV\n",
    "from imblearn.over_sampling import SMOTE\n",
    "from sklearn.pipeline import Pipeline"
   ]
  },
  {
   "cell_type": "code",
   "execution_count": 44,
   "metadata": {},
   "outputs": [
    {
     "name": "stdout",
     "output_type": "stream",
     "text": [
      "Index(['time', 'comment', 'Cleaned_Tokens', 'Sentiment'], dtype='object')\n"
     ]
    }
   ],
   "source": [
    "smote = SMOTE(random_state=42)\n",
    "X_train_resampled, y_train_resampled = smote.fit_resample(X_train_tfidf, y_train)\n",
    "print(data.columns)"
   ]
  },
  {
   "cell_type": "code",
   "execution_count": 52,
   "metadata": {},
   "outputs": [
    {
     "name": "stdout",
     "output_type": "stream",
     "text": [
      "                   time                                            comment  \\\n",
      "0  2024-05-10T17:06:20Z  Do you think the TikTok ban will be enacted? S...   \n",
      "1  2024-05-15T19:03:38Z                                             youts?   \n",
      "2  2024-05-15T18:42:03Z  Thank you for this. Really good job breaking e...   \n",
      "3  2024-05-15T18:35:09Z  The sheer number of people that ByteDsnce is p...   \n",
      "4  2024-05-15T18:33:35Z  Legal arguments regarding constitutional free ...   \n",
      "\n",
      "                                      Cleaned_Tokens  Sentiment  \\\n",
      "0  [think, tiktok, ban, enacted, start, saving, r...          2   \n",
      "1                                             [yout]          2   \n",
      "2  [thank, thi, really, good, job, breaking, ever...          0   \n",
      "3  [sheer, number, people, bytedsnce, paying, tak...          2   \n",
      "4  [legal, argument, regarding, constitutional, f...          2   \n",
      "\n",
      "  Sentiment_3_classes  \n",
      "0            pour ban  \n",
      "1              neutre  \n",
      "2            pour ban  \n",
      "3            pour ban  \n",
      "4            pour ban  \n"
     ]
    }
   ],
   "source": [
    "import pandas as pd\n",
    "from textblob import TextBlob\n",
    "\n",
    "# Load the data\n",
    "file_path = 'data1_with_sentiment.csv'  # Update this path\n",
    "data = pd.read_csv(file_path)\n",
    "\n",
    "# Ensure Cleaned_Tokens are lists\n",
    "data['Cleaned_Tokens'] = data['Cleaned_Tokens'].apply(lambda x: eval(x) if isinstance(x, str) else x)\n",
    "\n",
    "# Define the sentiment classification function for 3 classes\n",
    "def classify_sentiment_textblob(text):\n",
    "    analysis = TextBlob(text)\n",
    "    polarity = analysis.sentiment.polarity\n",
    "    if polarity > 0.1:\n",
    "        return \"pour ban\"  # Positive sentiment\n",
    "    elif polarity < -0.1:\n",
    "        return \"contre ban\"  # Negative sentiment\n",
    "    else:\n",
    "        return \"neutre\"  # Neutral sentiment\n",
    "\n",
    "# Apply sentiment classification\n",
    "data['Sentiment_3_classes'] = data['Cleaned_Tokens'].apply(lambda x: classify_sentiment_textblob(' '.join(x)))\n",
    "\n",
    "# Save the data to a CSV file\n",
    "output_file_path = 'data1_with_3_class_sentiment.csv'  # Update this path\n",
    "data.to_csv(output_file_path, index=False)\n",
    "\n",
    "# Display the first few rows of the updated dataframe\n",
    "print(data.head())\n",
    "\n"
   ]
  },
  {
   "cell_type": "code",
   "execution_count": 53,
   "metadata": {},
   "outputs": [
    {
     "name": "stdout",
     "output_type": "stream",
     "text": [
      "           Count  Proportion\n",
      "Sentiment                   \n",
      "0             91    0.030486\n",
      "1             26    0.008710\n",
      "2           2868    0.960804\n"
     ]
    },
    {
     "data": {
      "image/png": "[encoded data removed]",
      "text/plain": [
       "<Figure size 640x480 with 1 Axes>"
      ]
     },
     "metadata": {},
     "output_type": "display_data"
    }
   ],
   "source": [
    "import pandas as pd\n",
    "import matplotlib.pyplot as plt\n",
    "#textblob distribution\n",
    "file_path = 'data1_with_3_class_sentiment.csv'\n",
    "data = pd.read_csv(file_path)\n",
    "\n",
    "sentiment_counts = data['Sentiment'].value_counts().sort_index()\n",
    "sentiment_proportions = sentiment_counts / len(data)\n",
    "sentiment_summary = pd.DataFrame({\n",
    "    'Count': sentiment_counts,\n",
    "    'Proportion': sentiment_proportions\n",
    "})\n",
    "print(sentiment_summary)\n",
    "\n",
    "#textblob distribution\n",
    "sentiment_summary.plot(kind='bar', y='Proportion', legend=False)\n",
    "plt.title('Sentiment Distribution')\n",
    "plt.xlabel('Sentiment')\n",
    "plt.ylabel('Proportion')\n",
    "plt.xticks(rotation=0)\n",
    "plt.show()"
   ]
  },
  {
   "cell_type": "code",
   "execution_count": 54,
   "metadata": {},
   "outputs": [
    {
     "data": {
      "image/png": "[encoded data removed]",
      "text/plain": [
       "<Figure size 1000x600 with 1 Axes>"
      ]
     },
     "metadata": {},
     "output_type": "display_data"
    }
   ],
   "source": [
    "import pandas as pd\n",
    "from imblearn.over_sampling import SMOTE\n",
    "from sklearn.feature_extraction.text import TfidfVectorizer\n",
    "from sklearn.model_selection import train_test_split\n",
    "\n",
    "file_path = 'data1_with_3_class_sentiment.csv'\n",
    "data = pd.read_csv(file_path)\n",
    "\n",
    "data['Cleaned_Tokens'] = data['Cleaned_Tokens'].apply(eval)\n",
    "\n",
    "X = data['Cleaned_Tokens'].apply(lambda x: ' '.join(x))\n",
    "y = data['Sentiment']\n",
    "\n",
    "#Tf-idf\n",
    "vectorizer = TfidfVectorizer(max_features=5000)\n",
    "X_tfidf = vectorizer.fit_transform(X)\n",
    "\n",
    "#split data\n",
    "X_train, X_test, y_train, y_test = train_test_split(X_tfidf, y, test_size=0.2, random_state=42)\n",
    "\n",
    "# apply SMOTE to balance the training set\n",
    "smote = SMOTE(random_state=42)\n",
    "X_train_balanced, y_train_balanced = smote.fit_resample(X_train, y_train)\n",
    "\n",
    "# display the distribution\n",
    "balanced_counts = pd.Series(y_train_balanced).value_counts().sort_index()\n",
    "\n",
    "\n",
    "import matplotlib.pyplot as plt\n",
    "\n",
    "plt.figure(figsize=(10, 6))\n",
    "balanced_counts.plot(kind='bar')\n",
    "plt.title('Balanced Sentiment Distribution')\n",
    "plt.xlabel('Sentiment')\n",
    "plt.ylabel('Count')\n",
    "plt.xticks(rotation=0)\n",
    "plt.show()"
   ]
  },
  {
   "cell_type": "code",
   "execution_count": 55,
   "metadata": {},
   "outputs": [
    {
     "name": "stdout",
     "output_type": "stream",
     "text": [
      "Random Forest Accuracy: 0.9865996649916248\n",
      "Random Forest Classification Report:\n",
      "              precision    recall  f1-score   support\n",
      "\n",
      "           0       1.00      0.80      0.89        20\n",
      "           1       1.00      0.20      0.33         5\n",
      "           2       0.99      1.00      0.99       572\n",
      "\n",
      "    accuracy                           0.99       597\n",
      "   macro avg       1.00      0.67      0.74       597\n",
      "weighted avg       0.99      0.99      0.98       597\n",
      "\n"
     ]
    }
   ],
   "source": [
    "from sklearn.ensemble import RandomForestClassifier\n",
    "from sklearn.metrics import classification_report, accuracy_score\n",
    "\n",
    "#train the model random forest\n",
    "rf_model = RandomForestClassifier()\n",
    "rf_model.fit(X_train_balanced, y_train_balanced)\n",
    "rf_predictions = rf_model.predict(X_test)\n",
    "\n",
    "#ecaluate the model\n",
    "print(\"Random Forest Accuracy:\", accuracy_score(y_test, rf_predictions))\n",
    "print(\"Random Forest Classification Report:\")\n",
    "print(classification_report(y_test, rf_predictions))"
   ]
  },
  {
   "cell_type": "code",
   "execution_count": 56,
   "metadata": {},
   "outputs": [
    {
     "name": "stdout",
     "output_type": "stream",
     "text": [
      "Naive Bayes Accuracy: 0.8927973199329984\n",
      "Naive Bayes Classification Report:\n",
      "              precision    recall  f1-score   support\n",
      "\n",
      "           0       0.24      0.90      0.38        20\n",
      "           1       0.12      0.20      0.15         5\n",
      "           2       1.00      0.90      0.95       572\n",
      "\n",
      "    accuracy                           0.89       597\n",
      "   macro avg       0.46      0.67      0.49       597\n",
      "weighted avg       0.97      0.89      0.92       597\n",
      "\n"
     ]
    }
   ],
   "source": [
    "from sklearn.naive_bayes import MultinomialNB\n",
    "from sklearn.metrics import classification_report, accuracy_score\n",
    "\n",
    "#train the model\n",
    "nb_model = MultinomialNB()\n",
    "nb_model.fit(X_train_balanced, y_train_balanced)\n",
    "nb_predictions = nb_model.predict(X_test)\n",
    "\n",
    "# evaluate the Naive Bayes model\n",
    "print(\"Naive Bayes Accuracy:\", accuracy_score(y_test, nb_predictions))\n",
    "print(\"Naive Bayes Classification Report:\")\n",
    "print(classification_report(y_test, nb_predictions))"
   ]
  },
  {
   "cell_type": "code",
   "execution_count": 57,
   "metadata": {},
   "outputs": [
    {
     "name": "stdout",
     "output_type": "stream",
     "text": [
      "XGBoost Accuracy: 0.981574539363484\n",
      "XGBoost Classification Report:\n",
      "              precision    recall  f1-score   support\n",
      "\n",
      "           0       0.66      0.95      0.78        20\n",
      "           1       1.00      0.20      0.33         5\n",
      "           2       1.00      0.99      0.99       572\n",
      "\n",
      "    accuracy                           0.98       597\n",
      "   macro avg       0.88      0.71      0.70       597\n",
      "weighted avg       0.99      0.98      0.98       597\n",
      "\n"
     ]
    }
   ],
   "source": [
    "from xgboost import XGBClassifier\n",
    "\n",
    "#train the model\n",
    "xgb_model = XGBClassifier()\n",
    "xgb_model.fit(X_train_balanced, y_train_balanced)\n",
    "xgb_predictions = xgb_model.predict(X_test)\n",
    "\n",
    "#evaluation\n",
    "print(\"XGBoost Accuracy:\", accuracy_score(y_test, xgb_predictions))\n",
    "print(\"XGBoost Classification Report:\")\n",
    "print(classification_report(y_test, xgb_predictions))"
   ]
  },
  {
   "cell_type": "code",
   "execution_count": 58,
   "metadata": {},
   "outputs": [
    {
     "data": {
      "image/png": "[encoded data removed]",
      "text/plain": [
       "<Figure size 1000x800 with 2 Axes>"
      ]
     },
     "metadata": {},
     "output_type": "display_data"
    }
   ],
   "source": [
    "from sklearn.metrics import confusion_matrix\n",
    "import seaborn as sns\n",
    "import matplotlib.pyplot as plt\n",
    "\n",
    "# Compute the confusion matrix\n",
    "cm = confusion_matrix(y_test, xgb_predictions, labels=xgb_model.classes_)\n",
    "\n",
    "cm_df = pd.DataFrame(cm, index=xgb_model.classes_, columns=xgb_model.classes_)\n",
    "\n",
    "plt.figure(figsize=(10, 8))\n",
    "sns.heatmap(cm_df, annot=True, fmt='d', cmap='Blues')\n",
    "plt.title('Confusion Matrix')\n",
    "plt.xlabel('Predicted Label')\n",
    "plt.ylabel('True Label')\n",
    "plt.show()"
   ]
  },
  {
   "cell_type": "code",
   "execution_count": null,
   "metadata": {},
   "outputs": [],
   "source": []
  }
 ],
 "metadata": {
  "kernelspec": {
   "display_name": "Python 3",
   "language": "python",
   "name": "python3"
  },
  "language_info": {
   "codemirror_mode": {
    "name": "ipython",
    "version": 3
   },
   "file_extension": ".py",
   "mimetype": "text/x-python",
   "name": "python",
   "nbconvert_exporter": "python",
   "pygments_lexer": "ipython3",
   "version": "3.12.2"
  }
 },
 "nbformat": 4,
 "nbformat_minor": 2
}
